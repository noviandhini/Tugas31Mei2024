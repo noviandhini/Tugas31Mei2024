{
 "cells": [
  {
   "cell_type": "markdown",
   "metadata": {},
   "source": [
    "## Latihan PK 31 mei 2024"
   ]
  },
  {
   "cell_type": "code",
   "execution_count": 7,
   "metadata": {},
   "outputs": [
    {
     "name": "stdout",
     "output_type": "stream",
     "text": [
      "[ 5632  1870 23520]\n"
     ]
    }
   ],
   "source": [
    "#perkalian matrix array\n",
    "\n",
    "import numpy as np\n",
    "\n",
    "A = np.array([16, 11, 24])\n",
    "B = np.array([22, 17, 49])\n",
    "C = np.array([16, 10, 20])\n",
    "\n",
    "perkalian = A * B * C\n",
    "print(perkalian)"
   ]
  },
  {
   "cell_type": "code",
   "execution_count": 6,
   "metadata": {},
   "outputs": [
    {
     "name": "stdout",
     "output_type": "stream",
     "text": [
      "[-22 -16 -45]\n"
     ]
    }
   ],
   "source": [
    "#pengurangan matrix array\n",
    "\n",
    "import numpy as np\n",
    "\n",
    "A = np.array([16, 11, 24])\n",
    "B = np.array([22, 17, 49])\n",
    "C = np.array([16, 10, 20])\n",
    "\n",
    "pengurangan = A - B - C\n",
    "print(pengurangan)"
   ]
  },
  {
   "cell_type": "code",
   "execution_count": 11,
   "metadata": {},
   "outputs": [
    {
     "name": "stdout",
     "output_type": "stream",
     "text": [
      "[[16 22 16]\n",
      " [11 17 10]\n",
      " [24 49 20]]\n"
     ]
    }
   ],
   "source": [
    "#transpose matrix array\n",
    "\n",
    "import numpy as np\n",
    "\n",
    "A = np.array([[16, 11, 24],[22, 17, 49],[16, 10, 20]])\n",
    "\n",
    "transpose_A = np.transpose(A)\n",
    "print(transpose_A)"
   ]
  },
  {
   "cell_type": "code",
   "execution_count": 13,
   "metadata": {},
   "outputs": [
    {
     "name": "stdout",
     "output_type": "stream",
     "text": [
      "\n",
      "Invers matrix A:\n",
      "[[-1.10294118  0.14705882  0.96323529]\n",
      " [ 2.52941176 -0.47058824 -1.88235294]\n",
      " [-0.38235294  0.11764706  0.22058824]]\n"
     ]
    }
   ],
   "source": [
    "#invers matrix array\n",
    "\n",
    "import numpy as np\n",
    "\n",
    "A = np.array([[16, 11, 24],[22, 17, 49],[16, 10, 20]])\n",
    "\n",
    "inverse_A = np.linalg.inv(A)\n",
    "print(\"\\nInvers matrix A:\")\n",
    "print(inverse_A)\n"
   ]
  },
  {
   "cell_type": "code",
   "execution_count": 14,
   "metadata": {},
   "outputs": [
    {
     "name": "stdout",
     "output_type": "stream",
     "text": [
      "Determinant dari matrix A: 136.00000000000006\n"
     ]
    }
   ],
   "source": [
    "#determinan matrix array\n",
    "\n",
    "import numpy as np\n",
    "\n",
    "A = np.array([[16, 11, 24],[22, 17, 49],[16, 10, 20]])\n",
    "\n",
    "determinant_A = np.linalg.det(A)\n",
    "print(\"Determinant dari matrix A:\", determinant_A)\n"
   ]
  }
 ],
 "metadata": {
  "kernelspec": {
   "display_name": "Python 3",
   "language": "python",
   "name": "python3"
  },
  "language_info": {
   "codemirror_mode": {
    "name": "ipython",
    "version": 3
   },
   "file_extension": ".py",
   "mimetype": "text/x-python",
   "name": "python",
   "nbconvert_exporter": "python",
   "pygments_lexer": "ipython3",
   "version": "3.12.2"
  }
 },
 "nbformat": 4,
 "nbformat_minor": 2
}
